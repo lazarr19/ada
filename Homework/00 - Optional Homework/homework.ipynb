{
 "cells": [
  {
   "cell_type": "markdown",
   "id": "564d5321",
   "metadata": {},
   "source": [
    "### Suicides rates"
   ]
  },
  {
   "cell_type": "code",
   "execution_count": 32,
   "id": "e99b45c3",
   "metadata": {},
   "outputs": [
    {
     "data": {
      "text/html": [
       "<div>\n",
       "<style scoped>\n",
       "    .dataframe tbody tr th:only-of-type {\n",
       "        vertical-align: middle;\n",
       "    }\n",
       "\n",
       "    .dataframe tbody tr th {\n",
       "        vertical-align: top;\n",
       "    }\n",
       "\n",
       "    .dataframe thead th {\n",
       "        text-align: right;\n",
       "    }\n",
       "</style>\n",
       "<table border=\"1\" class=\"dataframe\">\n",
       "  <thead>\n",
       "    <tr style=\"text-align: right;\">\n",
       "      <th></th>\n",
       "      <th>Unnamed: 0</th>\n",
       "      <th>Intent</th>\n",
       "      <th>Gender</th>\n",
       "      <th>Age</th>\n",
       "      <th>Race</th>\n",
       "      <th>Deaths</th>\n",
       "      <th>Population</th>\n",
       "      <th>Rate</th>\n",
       "    </tr>\n",
       "  </thead>\n",
       "  <tbody>\n",
       "    <tr>\n",
       "      <th>0</th>\n",
       "      <td>1</td>\n",
       "      <td>None selected</td>\n",
       "      <td>None selected</td>\n",
       "      <td>None selected</td>\n",
       "      <td>None selected</td>\n",
       "      <td>33599</td>\n",
       "      <td>316299978</td>\n",
       "      <td>10.6</td>\n",
       "    </tr>\n",
       "    <tr>\n",
       "      <th>1</th>\n",
       "      <td>2</td>\n",
       "      <td>None selected</td>\n",
       "      <td>None selected</td>\n",
       "      <td>None selected</td>\n",
       "      <td>White</td>\n",
       "      <td>22079</td>\n",
       "      <td>197369634</td>\n",
       "      <td>11.2</td>\n",
       "    </tr>\n",
       "    <tr>\n",
       "      <th>2</th>\n",
       "      <td>3</td>\n",
       "      <td>None selected</td>\n",
       "      <td>None selected</td>\n",
       "      <td>None selected</td>\n",
       "      <td>Black</td>\n",
       "      <td>7765</td>\n",
       "      <td>38896382</td>\n",
       "      <td>20.0</td>\n",
       "    </tr>\n",
       "    <tr>\n",
       "      <th>3</th>\n",
       "      <td>4</td>\n",
       "      <td>None selected</td>\n",
       "      <td>None selected</td>\n",
       "      <td>None selected</td>\n",
       "      <td>Hispanic</td>\n",
       "      <td>3007</td>\n",
       "      <td>54049078</td>\n",
       "      <td>5.6</td>\n",
       "    </tr>\n",
       "    <tr>\n",
       "      <th>4</th>\n",
       "      <td>5</td>\n",
       "      <td>None selected</td>\n",
       "      <td>None selected</td>\n",
       "      <td>None selected</td>\n",
       "      <td>Asian/Pacific Islander</td>\n",
       "      <td>442</td>\n",
       "      <td>16315561</td>\n",
       "      <td>2.7</td>\n",
       "    </tr>\n",
       "  </tbody>\n",
       "</table>\n",
       "</div>"
      ],
      "text/plain": [
       "   Unnamed: 0         Intent         Gender            Age  \\\n",
       "0           1  None selected  None selected  None selected   \n",
       "1           2  None selected  None selected  None selected   \n",
       "2           3  None selected  None selected  None selected   \n",
       "3           4  None selected  None selected  None selected   \n",
       "4           5  None selected  None selected  None selected   \n",
       "\n",
       "                     Race  Deaths  Population  Rate  \n",
       "0           None selected   33599   316299978  10.6  \n",
       "1                   White   22079   197369634  11.2  \n",
       "2                   Black    7765    38896382  20.0  \n",
       "3                Hispanic    3007    54049078   5.6  \n",
       "4  Asian/Pacific Islander     442    16315561   2.7  "
      ]
     },
     "execution_count": 32,
     "metadata": {},
     "output_type": "execute_result"
    }
   ],
   "source": [
    "import pandas as pd\n",
    "\n",
    "PATH_TO_FILE = './interactive_data.csv'\n",
    "\n",
    "data = pd.read_csv(PATH_TO_FILE)\n",
    "\n",
    "data.head()"
   ]
  },
  {
   "cell_type": "code",
   "execution_count": 4,
   "id": "23eb7978",
   "metadata": {},
   "outputs": [
    {
     "data": {
      "text/plain": [
       "540"
      ]
     },
     "execution_count": 4,
     "metadata": {},
     "output_type": "execute_result"
    }
   ],
   "source": [
    "len(data)"
   ]
  },
  {
   "cell_type": "code",
   "execution_count": 5,
   "id": "74653ac2",
   "metadata": {
    "scrolled": true
   },
   "outputs": [
    {
     "name": "stdout",
     "output_type": "stream",
     "text": [
      "Index(['Intent', 'Gender', 'Age', 'Race'], dtype='object')\n"
     ]
    }
   ],
   "source": [
    "#Important attributes for selection\n",
    "attrs = data.columns[1:5]\n",
    "print(attrs)"
   ]
  },
  {
   "cell_type": "markdown",
   "id": "87f2fc3d",
   "metadata": {},
   "source": [
    "As we inspected the dataset, we can define dictionary *attributes* which is used for setting the desired filter conditions in every claim."
   ]
  },
  {
   "cell_type": "code",
   "execution_count": null,
   "id": "1cb28f5b",
   "metadata": {},
   "outputs": [],
   "source": [
    "attributes = {}"
   ]
  },
  {
   "cell_type": "code",
   "execution_count": 6,
   "id": "bcd7fc45",
   "metadata": {},
   "outputs": [],
   "source": [
    "def setDefaultAttributes(data, attributes):\n",
    "    for data_attribute in data.columns[1:5]:\n",
    "        attributes[data_attribute]='None selected'"
   ]
  },
  {
   "cell_type": "code",
   "execution_count": 7,
   "id": "461ab661",
   "metadata": {},
   "outputs": [
    {
     "name": "stdout",
     "output_type": "stream",
     "text": [
      "{'Intent': 'None selected', 'Gender': 'None selected', 'Age': 'None selected', 'Race': 'None selected'}\n"
     ]
    }
   ],
   "source": [
    "setDefaultAttributes(data, attributes)    \n",
    "print(attributes)"
   ]
  },
  {
   "cell_type": "markdown",
   "id": "4636acbb",
   "metadata": {},
   "source": [
    "Next, we define useful functions for future work."
   ]
  },
  {
   "cell_type": "code",
   "execution_count": 8,
   "id": "3cef5186",
   "metadata": {},
   "outputs": [],
   "source": [
    "def findNumberOfDeathsWithAttributes(data, attributes):\n",
    "    return data.loc[(data[list(attributes)] == pd.Series(attributes)).all(axis=1)]['Deaths'].iloc[0]"
   ]
  },
  {
   "cell_type": "code",
   "execution_count": 9,
   "id": "9da11a4e",
   "metadata": {},
   "outputs": [],
   "source": [
    "def calculatePercentage(number1, number2):\n",
    "    return number1/number2*100"
   ]
  },
  {
   "cell_type": "markdown",
   "id": "7ad3c607",
   "metadata": {},
   "source": [
    "### Claim #1:\n",
    "\n",
    "Nearly *two-thirds* of gun deaths are *suicides*:"
   ]
  },
  {
   "cell_type": "code",
   "execution_count": 10,
   "id": "cf18de46",
   "metadata": {},
   "outputs": [
    {
     "name": "stdout",
     "output_type": "stream",
     "text": [
      "33599\n"
     ]
    }
   ],
   "source": [
    "setDefaultAttributes(data, attributes)\n",
    "\n",
    "all_deaths = findNumberOfDeathsWithAttributes(data, attributes)\n",
    "\n",
    "print(all_deaths)"
   ]
  },
  {
   "cell_type": "code",
   "execution_count": 11,
   "id": "a9fe54c9",
   "metadata": {},
   "outputs": [
    {
     "name": "stdout",
     "output_type": "stream",
     "text": [
      "21058\n"
     ]
    }
   ],
   "source": [
    "setDefaultAttributes(data, attributes)\n",
    "attributes['Intent']='Suicide'\n",
    "\n",
    "suicide_deaths = findNumberOfDeathsWithAttributes(data, attributes)\n",
    "print(suicide_deaths)"
   ]
  },
  {
   "cell_type": "code",
   "execution_count": 12,
   "id": "72cb3425",
   "metadata": {},
   "outputs": [
    {
     "name": "stdout",
     "output_type": "stream",
     "text": [
      "62.67448435965356\n"
     ]
    }
   ],
   "source": [
    "print(calculatePercentage(suicide_deaths, all_deaths))"
   ]
  },
  {
   "cell_type": "markdown",
   "id": "42dba15a",
   "metadata": {},
   "source": [
    "### Conclusion\n",
    "Accorting to the database, we see that 62.67 percent of all deaths have suicide as their intent."
   ]
  },
  {
   "cell_type": "markdown",
   "id": "48fe4af9",
   "metadata": {},
   "source": [
    "### Claim #2:\n",
    "\n",
    "More than *85 percent* of suicide victims are *male*."
   ]
  },
  {
   "cell_type": "code",
   "execution_count": 22,
   "id": "21ea9a52",
   "metadata": {},
   "outputs": [
    {
     "name": "stdout",
     "output_type": "stream",
     "text": [
      "18162\n"
     ]
    }
   ],
   "source": [
    "setDefaultAttributes(data, attributes)\n",
    "attributes['Intent']='Suicide'\n",
    "attributes['Gender']='Male'\n",
    "\n",
    "suicide_male_deaths = findNumberOfDeathsWithAttributes(data, attributes)\n",
    "print(suicide_male_deaths)"
   ]
  },
  {
   "cell_type": "code",
   "execution_count": 23,
   "id": "34abffba",
   "metadata": {},
   "outputs": [
    {
     "name": "stdout",
     "output_type": "stream",
     "text": [
      "86.24750688574414\n"
     ]
    }
   ],
   "source": [
    "print(calculatePercentage(male_deaths, suicide_deaths))"
   ]
  },
  {
   "cell_type": "markdown",
   "id": "5549322e",
   "metadata": {},
   "source": [
    "### Conclusion\n",
    "\n",
    "Accorting to the database, we see that 86.25 percent of suicide victims are male. "
   ]
  },
  {
   "cell_type": "markdown",
   "id": "994f4644",
   "metadata": {},
   "source": [
    "### Claim #3:\n",
    "\n",
    "Around *a third* of all gun deaths are *homicides*."
   ]
  },
  {
   "cell_type": "code",
   "execution_count": 15,
   "id": "d54e978f",
   "metadata": {},
   "outputs": [
    {
     "name": "stdout",
     "output_type": "stream",
     "text": [
      "11726\n"
     ]
    }
   ],
   "source": [
    "setDefaultAttributes(data, attributes)\n",
    "attributes['Intent']='Homicide'\n",
    "\n",
    "homicide_deaths = findNumberOfDeathsWithAttributes(data, attributes)\n",
    "print(homicide_deaths)"
   ]
  },
  {
   "cell_type": "code",
   "execution_count": 16,
   "id": "c7e5d6ad",
   "metadata": {},
   "outputs": [
    {
     "name": "stdout",
     "output_type": "stream",
     "text": [
      "34.899848209768145\n"
     ]
    }
   ],
   "source": [
    "print(calculatePercentage(homicide_deaths, all_deaths))"
   ]
  },
  {
   "cell_type": "markdown",
   "id": "98fc14c3",
   "metadata": {},
   "source": [
    "### Conclusion\n",
    "\n",
    "Accorting to the database, we see that 34.90 percent of all deaths are homicides. "
   ]
  },
  {
   "cell_type": "markdown",
   "id": "75d2c739",
   "metadata": {},
   "source": [
    "### Claim #4:\n",
    "\n",
    "Around *two-thirds* of homicide victims who are *males* in the *age-group of 15--34* are *black*."
   ]
  },
  {
   "cell_type": "code",
   "execution_count": 17,
   "id": "fe5adf20",
   "metadata": {},
   "outputs": [
    {
     "name": "stdout",
     "output_type": "stream",
     "text": [
      "6520\n"
     ]
    }
   ],
   "source": [
    "setDefaultAttributes(data, attributes)\n",
    "attributes['Intent']='Homicide'\n",
    "attributes['Gender'] = 'Male'\n",
    "attributes['Age'] = '15 - 34'\n",
    "\n",
    "homicide_male_mid_age_deaths = findNumberOfDeathsWithAttributes(data, attributes)\n",
    "print(homicide_male_mid_age_deaths)"
   ]
  },
  {
   "cell_type": "code",
   "execution_count": 18,
   "id": "8592e65e",
   "metadata": {},
   "outputs": [
    {
     "name": "stdout",
     "output_type": "stream",
     "text": [
      "4312\n"
     ]
    }
   ],
   "source": [
    "setDefaultAttributes(data, attributes)\n",
    "attributes['Intent'] = 'Homicide'\n",
    "attributes['Gender'] = 'Male'\n",
    "attributes['Age'] = '15 - 34'\n",
    "attributes['Race'] = 'Black'\n",
    "\n",
    "homicide_male_mid_age_black_deaths = findNumberOfDeathsWithAttributes(data, attributes)\n",
    "print(homicide_male_mid_age_black_deaths)"
   ]
  },
  {
   "cell_type": "code",
   "execution_count": 19,
   "id": "e7fbbb48",
   "metadata": {},
   "outputs": [
    {
     "name": "stdout",
     "output_type": "stream",
     "text": [
      "66.13496932515336\n"
     ]
    }
   ],
   "source": [
    "print(calculatePercentage(homicide_male_mid_age_black_deaths, homicide_male_mid_age_deaths))"
   ]
  },
  {
   "cell_type": "markdown",
   "id": "8f3b7da8",
   "metadata": {},
   "source": [
    "### Conclusion\n",
    "\n",
    "Accorting to the database, we see that 66.13 percent of homicide victims who are males in the age-group of 15-34 are black. "
   ]
  },
  {
   "cell_type": "markdown",
   "id": "fd6a2dad",
   "metadata": {},
   "source": [
    "### Claim #5:\n",
    "\n",
    "*Women* constitue only *15 percent* of the total *homicide* victims."
   ]
  },
  {
   "cell_type": "code",
   "execution_count": 20,
   "id": "054ebddb",
   "metadata": {},
   "outputs": [
    {
     "name": "stdout",
     "output_type": "stream",
     "text": [
      "1791\n"
     ]
    }
   ],
   "source": [
    "setDefaultAttributes(data, attributes)\n",
    "attributes['Intent'] = 'Homicide'\n",
    "attributes['Gender'] = 'Female'\n",
    "\n",
    "homicide_female_deaths = findNumberOfDeathsWithAttributes(data, attributes)\n",
    "print(homicide_female_deaths)"
   ]
  },
  {
   "cell_type": "code",
   "execution_count": 21,
   "id": "75b9c748",
   "metadata": {},
   "outputs": [
    {
     "name": "stdout",
     "output_type": "stream",
     "text": [
      "15.273750639604296\n"
     ]
    }
   ],
   "source": [
    "print(calculatePercentage(homicide_female_deaths, homicide_deaths))"
   ]
  },
  {
   "cell_type": "markdown",
   "id": "a9b08d0f",
   "metadata": {},
   "source": [
    "### Conclusion\n",
    "\n",
    "Accorting to the database, we see that 15.27 percent of homicide victims are female. "
   ]
  },
  {
   "cell_type": "code",
   "execution_count": null,
   "id": "4e996a3b",
   "metadata": {},
   "outputs": [],
   "source": []
  },
  {
   "cell_type": "code",
   "execution_count": null,
   "id": "70ba0832",
   "metadata": {},
   "outputs": [],
   "source": []
  }
 ],
 "metadata": {
  "kernelspec": {
   "display_name": "Python 3 (ipykernel)",
   "language": "python",
   "name": "python3"
  },
  "language_info": {
   "codemirror_mode": {
    "name": "ipython",
    "version": 3
   },
   "file_extension": ".py",
   "mimetype": "text/x-python",
   "name": "python",
   "nbconvert_exporter": "python",
   "pygments_lexer": "ipython3",
   "version": "3.9.12"
  }
 },
 "nbformat": 4,
 "nbformat_minor": 5
}
